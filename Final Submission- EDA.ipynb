{
 "cells": [
  {
   "cell_type": "markdown",
   "metadata": {
    "application/vnd.databricks.v1+cell": {
     "cellMetadata": {
      "byteLimit": 2048000,
      "rowLimit": 10000
     },
     "inputWidgets": {},
     "nuid": "e0dfdcb7-88af-4562-a4ac-018e0e2176cb",
     "showTitle": false,
     "title": ""
    }
   },
   "source": [
    "###Phase Leader plan:\n",
    "\n",
    "Week 1: John (complete)\n",
    "\n",
    "Week 2: Mike (complete)\n",
    "\n",
    "Week 3: Steve (complete)\n",
    "\n",
    "Week 4: Florencia\n",
    "\n",
    "\n",
    "###Credit Assignment Plan Week 4:\n",
    "\n",
    "Steve: Project management; final paper; analysis of results; pagerank; \n",
    "\n",
    "Florencia: SMOTE; pipeline creation; final paper\n",
    "\n",
    "John: final paper; pagerank; feature eng\n",
    "\n",
    "Mike: Neural Network, XGBoost, Gradient Boost models, and final paper;"
   ]
  },
  {
   "cell_type": "code",
   "execution_count": 0,
   "metadata": {
    "application/vnd.databricks.v1+cell": {
     "cellMetadata": {
      "byteLimit": 2048000,
      "rowLimit": 10000
     },
     "inputWidgets": {},
     "nuid": "adc0e149-860e-499a-b076-03f0b73321d9",
     "showTitle": false,
     "title": ""
    }
   },
   "outputs": [
    {
     "output_type": "stream",
     "name": "stdout",
     "output_type": "stream",
     "text": [
      "Requirement already satisfied: sparkxgb in /local_disk0/.ephemeral_nfs/envs/pythonEnv-d93eb925-222a-4c0a-b2d4-d55aeaf8e7fb/lib/python3.10/site-packages (0.1)\r\nRequirement already satisfied: pyspark==3.1.1 in /local_disk0/.ephemeral_nfs/envs/pythonEnv-d93eb925-222a-4c0a-b2d4-d55aeaf8e7fb/lib/python3.10/site-packages (from sparkxgb) (3.1.1)\r\nRequirement already satisfied: py4j==0.10.9 in /local_disk0/.ephemeral_nfs/envs/pythonEnv-d93eb925-222a-4c0a-b2d4-d55aeaf8e7fb/lib/python3.10/site-packages (from pyspark==3.1.1->sparkxgb) (0.10.9)\r\n\r\n\u001B[1m[\u001B[0m\u001B[34;49mnotice\u001B[0m\u001B[1;39;49m]\u001B[0m\u001B[39;49m A new release of pip available: \u001B[0m\u001B[31;49m22.2.2\u001B[0m\u001B[39;49m -> \u001B[0m\u001B[32;49m23.2.1\u001B[0m\r\n\u001B[1m[\u001B[0m\u001B[34;49mnotice\u001B[0m\u001B[1;39;49m]\u001B[0m\u001B[39;49m To update, run: \u001B[0m\u001B[32;49mpip install --upgrade pip\u001B[0m\r\n"
     ]
    }
   ],
   "source": [
    "#imports and paths\n",
    "!pip install sparkxgb\n",
    "\n",
    "# General Packages:\n",
    "import numpy as np\n",
    "import pandas as pd\n",
    "import time\n",
    "from functools import reduce\n",
    "import matplotlib.pyplot as plt\n",
    "from matplotlib.pyplot import figure\n",
    "import matplotlib.gridspec as gridspec\n",
    "import seaborn as sns\n",
    "from datetime import date, timedelta\n",
    "from pyspark.sql.functions import col, isnan, when, mean,avg, stddev, count, sum, countDistinct, min, round, max, year, asc\n",
    "from pyspark.ml.stat import Correlation\n",
    "from pyspark.sql import functions as F\n",
    "from collections import namedtuple\n",
    "\n",
    "# For Pipeline\n",
    "from pyspark.ml import Transformer\n",
    "from pyspark.sql import DataFrame, Row\n",
    "from pyspark.ml.linalg import Vectors,VectorUDT\n",
    "from pyspark.sql.functions import array, create_map, struct\n",
    "\n",
    "# For Feature Engineering\n",
    "from pyspark.ml.feature import VectorAssembler,MinMaxScaler,BucketedRandomProjectionLSH,VectorSlicer,IndexToString\n",
    "from pyspark.sql.types import FloatType, IntegerType, TimestampType, StringType\n",
    "from pyspark.ml.feature import StringIndexer, OneHotEncoder\n",
    "from pyspark.sql.functions import col, to_timestamp, hour, concat, date_format, rand, when,concat,substring,lit,udf,lower,sum as ps_sum,count as ps_count,row_number\n",
    "from pyspark.sql.window import *\n",
    "from pyspark.sql.window import Window\n",
    "from graphframes import GraphFrame\n",
    "\n",
    "# For Modeling:\n",
    "from pyspark.ml.classification import LogisticRegression, RandomForestClassifier, DecisionTreeClassifier, MultilayerPerceptronClassifier, GBTClassifier\n",
    "from sklearn.ensemble import AdaBoostClassifier\n",
    "from pyspark.ml.evaluation import BinaryClassificationEvaluator\n",
    "from pyspark.ml import Pipeline\n",
    "from pyspark.mllib.evaluation import MulticlassMetrics\n",
    "from sparkxgb import XGBoostClassifier\n",
    "from pyspark.ml.tuning import ParamGridBuilder\n",
    "from pyspark.ml.evaluation import MulticlassClassificationEvaluator\n",
    "import random\n",
    "\n",
    "#dbutils.fs.help()\n",
    "data_BASE_DIR = \"/mnt/\"\n",
    "#display(dbutils.fs.ls(f\"{data_BASE_DIR}\"))"
   ]
  },
  {
   "cell_type": "code",
   "execution_count": 0,
   "metadata": {
    "application/vnd.databricks.v1+cell": {
     "cellMetadata": {
      "byteLimit": 2048000,
      "rowLimit": 10000
     },
     "inputWidgets": {},
     "nuid": "02d56480-6a35-4352-81a2-3cff813e5449",
     "showTitle": false,
     "title": ""
    }
   },
   "outputs": [],
   "source": [
    "# spark.conf.set( \"spark.serializer\", \n",
    "#      \"org.apache.spark.serializer.KyroSerializer\")\n",
    "from pyspark.sql import SparkSession\n",
    "spark = SparkSession.builder.appName(\"MyApp\").config(\"spark.serializer\", \"org.apache.spark.serializer.JavaSerializer\").getOrCreate()\n"
   ]
  },
  {
   "cell_type": "code",
   "execution_count": 0,
   "metadata": {
    "application/vnd.databricks.v1+cell": {
     "cellMetadata": {
      "byteLimit": 2048000,
      "rowLimit": 10000
     },
     "inputWidgets": {},
     "nuid": "9262575e-f5db-436f-bfdf-a344ac795210",
     "showTitle": false,
     "title": ""
    }
   },
   "outputs": [],
   "source": [
    "blob_container  = \"w261-container\"\n",
    "storage_account = \"whiskeythedog\"\n",
    "secret_scope    = \"whiskeythedog-scope\"                   \n",
    "secret_key      = \"whikeythedog-key\"  \n",
    "blob_url = f\"wasbs://{blob_container}@{storage_account}.blob.core.windows.net\"\n",
    "\n",
    "spark.conf.set(\n",
    "  f\"fs.azure.sas.{blob_container}.{storage_account}.blob.core.windows.net\",\n",
    "  dbutils.secrets.get(scope = secret_scope, key = secret_key)\n",
    ")"
   ]
  },
  {
   "cell_type": "code",
   "execution_count": 0,
   "metadata": {
    "application/vnd.databricks.v1+cell": {
     "cellMetadata": {
      "byteLimit": 2048000,
      "rowLimit": 10000
     },
     "inputWidgets": {},
     "nuid": "14374a30-9489-4215-86af-75f3b96a5e19",
     "showTitle": false,
     "title": ""
    }
   },
   "outputs": [
    {
     "output_type": "display_data",
     "data": {
      "text/html": [
       "<style scoped>\n",
       "  .table-result-container {\n",
       "    max-height: 300px;\n",
       "    overflow: auto;\n",
       "  }\n",
       "  table, th, td {\n",
       "    border: 1px solid black;\n",
       "    border-collapse: collapse;\n",
       "  }\n",
       "  th, td {\n",
       "    padding: 5px;\n",
       "  }\n",
       "  th {\n",
       "    text-align: left;\n",
       "  }\n",
       "</style><div class='table-result-container'><table class='table-result'><thead style='background-color: white'><tr><th>path</th><th>name</th><th>size</th><th>modificationTime</th></tr></thead><tbody><tr><td>dbfs:/mnt/mids-w261/HW5/</td><td>HW5/</td><td>0</td><td>0</td></tr><tr><td>dbfs:/mnt/mids-w261/OTPW_12M/</td><td>OTPW_12M/</td><td>0</td><td>0</td></tr><tr><td>dbfs:/mnt/mids-w261/OTPW_1D_CSV/</td><td>OTPW_1D_CSV/</td><td>0</td><td>0</td></tr><tr><td>dbfs:/mnt/mids-w261/OTPW_36M/</td><td>OTPW_36M/</td><td>0</td><td>0</td></tr><tr><td>dbfs:/mnt/mids-w261/OTPW_3M/</td><td>OTPW_3M/</td><td>0</td><td>0</td></tr><tr><td>dbfs:/mnt/mids-w261/OTPW_3M_2015.csv</td><td>OTPW_3M_2015.csv</td><td>1500620247</td><td>1679772070000</td></tr><tr><td>dbfs:/mnt/mids-w261/OTPW_60M/</td><td>OTPW_60M/</td><td>0</td><td>0</td></tr><tr><td>dbfs:/mnt/mids-w261/airport-codes_csv.csv</td><td>airport-codes_csv.csv</td><td>6232459</td><td>1677623514000</td></tr><tr><td>dbfs:/mnt/mids-w261/datasets_final_project/</td><td>datasets_final_project/</td><td>0</td><td>0</td></tr><tr><td>dbfs:/mnt/mids-w261/datasets_final_project_2022/</td><td>datasets_final_project_2022/</td><td>0</td><td>0</td></tr></tbody></table></div>"
      ]
     },
     "metadata": {
      "application/vnd.databricks.v1+output": {
       "addedWidgets": {},
       "aggData": [],
       "aggError": "",
       "aggOverflow": false,
       "aggSchema": [],
       "aggSeriesLimitReached": false,
       "aggType": "",
       "arguments": {},
       "columnCustomDisplayInfos": {},
       "data": [
        [
         "dbfs:/mnt/mids-w261/HW5/",
         "HW5/",
         0,
         0
        ],
        [
         "dbfs:/mnt/mids-w261/OTPW_12M/",
         "OTPW_12M/",
         0,
         0
        ],
        [
         "dbfs:/mnt/mids-w261/OTPW_1D_CSV/",
         "OTPW_1D_CSV/",
         0,
         0
        ],
        [
         "dbfs:/mnt/mids-w261/OTPW_36M/",
         "OTPW_36M/",
         0,
         0
        ],
        [
         "dbfs:/mnt/mids-w261/OTPW_3M/",
         "OTPW_3M/",
         0,
         0
        ],
        [
         "dbfs:/mnt/mids-w261/OTPW_3M_2015.csv",
         "OTPW_3M_2015.csv",
         1500620247,
         1679772070000
        ],
        [
         "dbfs:/mnt/mids-w261/OTPW_60M/",
         "OTPW_60M/",
         0,
         0
        ],
        [
         "dbfs:/mnt/mids-w261/airport-codes_csv.csv",
         "airport-codes_csv.csv",
         6232459,
         1677623514000
        ],
        [
         "dbfs:/mnt/mids-w261/datasets_final_project/",
         "datasets_final_project/",
         0,
         0
        ],
        [
         "dbfs:/mnt/mids-w261/datasets_final_project_2022/",
         "datasets_final_project_2022/",
         0,
         0
        ]
       ],
       "datasetInfos": [],
       "dbfsResultPath": null,
       "isJsonSchema": true,
       "metadata": {},
       "overflow": false,
       "plotOptions": {
        "customPlotOptions": {},
        "displayType": "table",
        "pivotAggregation": null,
        "pivotColumns": null,
        "xColumns": null,
        "yColumns": null
       },
       "removedWidgets": [],
       "schema": [
        {
         "metadata": "{}",
         "name": "path",
         "type": "\"string\""
        },
        {
         "metadata": "{}",
         "name": "name",
         "type": "\"string\""
        },
        {
         "metadata": "{}",
         "name": "size",
         "type": "\"long\""
        },
        {
         "metadata": "{}",
         "name": "modificationTime",
         "type": "\"long\""
        }
       ],
       "type": "table"
      }
     },
     "output_type": "display_data"
    }
   ],
   "source": [
    "# Inspect the Mount's Final Project folder \n",
    "# Please IGNORE dbutils.fs.cp(\"/mnt/mids-w261/datasets_final_project/stations_data/\", \"/mnt/mids-w261/datasets_final_project_2022/stations_data/\", recurse=True)\n",
    "mids261_mount_path = \"dbfs:/mnt/mids-w261/\" #no permission to write to this mounted blob storage; \n",
    "display(dbutils.fs.ls(f\"{mids261_mount_path}\")) #3M, 12M, 36M, 60M"
   ]
  },
  {
   "cell_type": "code",
   "execution_count": 0,
   "metadata": {
    "application/vnd.databricks.v1+cell": {
     "cellMetadata": {
      "byteLimit": 2048000,
      "rowLimit": 10000
     },
     "inputWidgets": {},
     "nuid": "30cbdf8d-9126-4fc8-8523-f2f823b54785",
     "showTitle": false,
     "title": ""
    }
   },
   "outputs": [
    {
     "output_type": "display_data",
     "data": {
      "text/html": [
       "<style scoped>\n",
       "  .table-result-container {\n",
       "    max-height: 300px;\n",
       "    overflow: auto;\n",
       "  }\n",
       "  table, th, td {\n",
       "    border: 1px solid black;\n",
       "    border-collapse: collapse;\n",
       "  }\n",
       "  th, td {\n",
       "    padding: 5px;\n",
       "  }\n",
       "  th {\n",
       "    text-align: left;\n",
       "  }\n",
       "</style><div class='table-result-container'><table class='table-result'><thead style='background-color: white'><tr><th>path</th><th>name</th><th>size</th><th>modificationTime</th></tr></thead><tbody><tr><td>dbfs:/mnt/mids-w261/datasets_final_project_2022/parquet_airlines_data/</td><td>parquet_airlines_data/</td><td>0</td><td>0</td></tr><tr><td>dbfs:/mnt/mids-w261/datasets_final_project_2022/parquet_airlines_data_1y/</td><td>parquet_airlines_data_1y/</td><td>0</td><td>0</td></tr><tr><td>dbfs:/mnt/mids-w261/datasets_final_project_2022/parquet_airlines_data_3m/</td><td>parquet_airlines_data_3m/</td><td>0</td><td>0</td></tr><tr><td>dbfs:/mnt/mids-w261/datasets_final_project_2022/parquet_airlines_data_6m/</td><td>parquet_airlines_data_6m/</td><td>0</td><td>0</td></tr><tr><td>dbfs:/mnt/mids-w261/datasets_final_project_2022/parquet_weather_data/</td><td>parquet_weather_data/</td><td>0</td><td>0</td></tr><tr><td>dbfs:/mnt/mids-w261/datasets_final_project_2022/parquet_weather_data_1y/</td><td>parquet_weather_data_1y/</td><td>0</td><td>0</td></tr><tr><td>dbfs:/mnt/mids-w261/datasets_final_project_2022/parquet_weather_data_3m/</td><td>parquet_weather_data_3m/</td><td>0</td><td>0</td></tr><tr><td>dbfs:/mnt/mids-w261/datasets_final_project_2022/parquet_weather_data_6m/</td><td>parquet_weather_data_6m/</td><td>0</td><td>0</td></tr><tr><td>dbfs:/mnt/mids-w261/datasets_final_project_2022/stations_data/</td><td>stations_data/</td><td>0</td><td>0</td></tr></tbody></table></div>"
      ]
     },
     "metadata": {
      "application/vnd.databricks.v1+output": {
       "addedWidgets": {},
       "aggData": [],
       "aggError": "",
       "aggOverflow": false,
       "aggSchema": [],
       "aggSeriesLimitReached": false,
       "aggType": "",
       "arguments": {},
       "columnCustomDisplayInfos": {},
       "data": [
        [
         "dbfs:/mnt/mids-w261/datasets_final_project_2022/parquet_airlines_data/",
         "parquet_airlines_data/",
         0,
         0
        ],
        [
         "dbfs:/mnt/mids-w261/datasets_final_project_2022/parquet_airlines_data_1y/",
         "parquet_airlines_data_1y/",
         0,
         0
        ],
        [
         "dbfs:/mnt/mids-w261/datasets_final_project_2022/parquet_airlines_data_3m/",
         "parquet_airlines_data_3m/",
         0,
         0
        ],
        [
         "dbfs:/mnt/mids-w261/datasets_final_project_2022/parquet_airlines_data_6m/",
         "parquet_airlines_data_6m/",
         0,
         0
        ],
        [
         "dbfs:/mnt/mids-w261/datasets_final_project_2022/parquet_weather_data/",
         "parquet_weather_data/",
         0,
         0
        ],
        [
         "dbfs:/mnt/mids-w261/datasets_final_project_2022/parquet_weather_data_1y/",
         "parquet_weather_data_1y/",
         0,
         0
        ],
        [
         "dbfs:/mnt/mids-w261/datasets_final_project_2022/parquet_weather_data_3m/",
         "parquet_weather_data_3m/",
         0,
         0
        ],
        [
         "dbfs:/mnt/mids-w261/datasets_final_project_2022/parquet_weather_data_6m/",
         "parquet_weather_data_6m/",
         0,
         0
        ],
        [
         "dbfs:/mnt/mids-w261/datasets_final_project_2022/stations_data/",
         "stations_data/",
         0,
         0
        ]
       ],
       "datasetInfos": [],
       "dbfsResultPath": null,
       "isJsonSchema": true,
       "metadata": {},
       "overflow": false,
       "plotOptions": {
        "customPlotOptions": {},
        "displayType": "table",
        "pivotAggregation": null,
        "pivotColumns": null,
        "xColumns": null,
        "yColumns": null
       },
       "removedWidgets": [],
       "schema": [
        {
         "metadata": "{}",
         "name": "path",
         "type": "\"string\""
        },
        {
         "metadata": "{}",
         "name": "name",
         "type": "\"string\""
        },
        {
         "metadata": "{}",
         "name": "size",
         "type": "\"long\""
        },
        {
         "metadata": "{}",
         "name": "modificationTime",
         "type": "\"long\""
        }
       ],
       "type": "table"
      }
     },
     "output_type": "display_data"
    }
   ],
   "source": [
    "# Inspect the Mount's Final Project folder \n",
    "# Please IGNORE dbutils.fs.cp(\"/mnt/mids-w261/datasets_final_project/stations_data/\", \"/mnt/mids-w261/datasets_final_project_2022/stations_data/\", recurse=True)\n",
    "data_BASE_DIR = \"dbfs:/mnt/mids-w261/datasets_final_project_2022/\"\n",
    "display(dbutils.fs.ls(f\"{data_BASE_DIR}\"))\n",
    "#display(dbutils.fs.ls(f\"{data_BASE_DIR}stations_data/\"))"
   ]
  },
  {
   "cell_type": "markdown",
   "metadata": {
    "application/vnd.databricks.v1+cell": {
     "cellMetadata": {
      "byteLimit": 2048000,
      "rowLimit": 10000
     },
     "inputWidgets": {},
     "nuid": "0efba1b2-a69d-4e72-816b-b9c30b753ffe",
     "showTitle": false,
     "title": ""
    }
   },
   "source": [
    "# Data Ingestion - 60M Dataset"
   ]
  },
  {
   "cell_type": "code",
   "execution_count": 0,
   "metadata": {
    "application/vnd.databricks.v1+cell": {
     "cellMetadata": {
      "byteLimit": 2048000,
      "rowLimit": 10000
     },
     "inputWidgets": {},
     "nuid": "7bfae1bf-5955-4689-a418-c0cf3aec40b9",
     "showTitle": false,
     "title": ""
    }
   },
   "outputs": [],
   "source": [
    "# OTPW_60m = spark.read.parquet(f\"{blob_url}pagerank/pagerank_60m/\") # load raw data\n",
    "OTPW_60M_gf = spark.read.parquet(f\"{blob_url}/pipeline_train_js/\")    # raw data with graph features added (_gf)"
   ]
  },
  {
   "cell_type": "code",
   "execution_count": 0,
   "metadata": {
    "application/vnd.databricks.v1+cell": {
     "cellMetadata": {
      "byteLimit": 2048000,
      "rowLimit": 10000
     },
     "inputWidgets": {},
     "nuid": "6f3ae996-8764-4a1c-b724-1f378bf71a76",
     "showTitle": false,
     "title": ""
    }
   },
   "outputs": [
    {
     "output_type": "execute_result",
     "data": {
      "text/plain": [
       "31673119"
      ]
     },
     "execution_count": 18,
     "metadata": {},
     "output_type": "execute_result"
    }
   ],
   "source": [
    "OTPW_60M_gf.count()"
   ]
  },
  {
   "cell_type": "code",
   "execution_count": 0,
   "metadata": {
    "application/vnd.databricks.v1+cell": {
     "cellMetadata": {
      "byteLimit": 2048000,
      "rowLimit": 10000
     },
     "inputWidgets": {},
     "nuid": "a19554fd-2a70-4255-893b-f1358740b483",
     "showTitle": false,
     "title": ""
    }
   },
   "outputs": [
    {
     "output_type": "execute_result",
     "data": {
      "text/plain": [
       "217"
      ]
     },
     "execution_count": 19,
     "metadata": {},
     "output_type": "execute_result"
    }
   ],
   "source": [
    "len(OTPW_60M_gf.columns)"
   ]
  },
  {
   "cell_type": "markdown",
   "metadata": {
    "application/vnd.databricks.v1+cell": {
     "cellMetadata": {
      "byteLimit": 2048000,
      "rowLimit": 10000
     },
     "inputWidgets": {},
     "nuid": "e8d9536e-4308-46b1-975a-05996115d1c3",
     "showTitle": false,
     "title": ""
    }
   },
   "source": [
    "# EDA <-- here is the main section for this part -->"
   ]
  },
  {
   "cell_type": "code",
   "execution_count": 0,
   "metadata": {
    "application/vnd.databricks.v1+cell": {
     "cellMetadata": {
      "byteLimit": 2048000,
      "rowLimit": 10000
     },
     "inputWidgets": {},
     "nuid": "bb3d06ea-412f-40ec-8620-02300cc017ba",
     "showTitle": false,
     "title": ""
    }
   },
   "outputs": [
    {
     "output_type": "display_data",
     "data": {
      "text/html": [
       "<style scoped>\n",
       "  .ansiout {\n",
       "    display: block;\n",
       "    unicode-bidi: embed;\n",
       "    white-space: pre-wrap;\n",
       "    word-wrap: break-word;\n",
       "    word-break: break-all;\n",
       "    font-family: \"Source Code Pro\", \"Menlo\", monospace;;\n",
       "    font-size: 13px;\n",
       "    color: #555;\n",
       "    margin-left: 4px;\n",
       "    line-height: 19px;\n",
       "  }\n",
       "</style>"
      ]
     },
     "metadata": {
      "application/vnd.databricks.v1+output": {
       "arguments": {},
       "data": "",
       "errorSummary": "Cancelled",
       "errorTraceType": "html",
       "metadata": {},
       "type": "ipynbError"
      }
     },
     "output_type": "display_data"
    }
   ],
   "source": [
    "def get_mode(df, column_name):\n",
    "    mode_value = df.groupBy(column_name).count().orderBy(F.desc('count')).limit(1).collect()[0][0]\n",
    "    return mode_value\n",
    "\n",
    "# handle column and do imputation\n",
    "def summarize_column(df, column_name, outcome_col, sample_rate=1, to_show=True, seed=42):\n",
    "    df = df if sample_rate==1 else df.sample(False, sample_rate, seed)\n",
    "    # cast the specific column to float\n",
    "    df_with_cast = df.withColumn(column_name, col(column_name).cast('float'))\n",
    "    df_filtered = df_with_cast.filter(col(column_name).isNotNull())\n",
    "    \n",
    "    # determine flags for different conditions\n",
    "    df_with_flags = df_with_cast.withColumn('is_null_or_nan', col(column_name).isNull() | isnan(col(column_name)))\n",
    "    df_with_flags = df_with_flags.withColumn('is_string_nan_or_null', col(column_name).isin('nan', 'null'))\n",
    "    df_with_flags = df_with_flags.withColumn('is_float_castable', ~col('is_null_or_nan') & ~col('is_string_nan_or_null'))\n",
    "\n",
    "    agg_result = df_with_flags.agg(\n",
    "        count(col(column_name)).alias('count'),\n",
    "        sum(when(col('is_null_or_nan'), 1).otherwise(0)).alias('nulls_nans_count'),\n",
    "        sum(when(col('is_string_nan_or_null'), 1).otherwise(0)).alias('string_nans_nulls_count'),\n",
    "        sum(when(col('is_float_castable'), 1).otherwise(0)).alias('float_castable_count'),\n",
    "        sum(when(~col('is_float_castable'), 1).otherwise(0)).alias('uncastable_count'), # Assuming is_float_castable is a boolean column\n",
    "        min(col(column_name)).alias('min_value'),\n",
    "        max(col(column_name)).alias('max_value'),\n",
    "        round(avg(col(column_name)), 2).alias('mean'),\n",
    "        round(stddev(col(column_name)), 2).alias('std_dev')\n",
    "    )\n",
    "\n",
    "    # summarization values\n",
    "    col_mean = df_filtered.agg(mean(col(column_name)).alias('mean')).collect()[0]['mean']\n",
    "    col_mode = get_mode(df_filtered, column_name)\n",
    "    col_median = df_filtered.approxQuantile(column_name, [0.5], 0.01)[0]\n",
    "    print(col_mean, col_mode, col_median)\n",
    "\n",
    "    # plot histogram if to_show is True\n",
    "    if to_show:\n",
    "        display(agg_result.collect())\n",
    "\n",
    "        pandas_df = df_with_cast.select([column_name, outcome_col]).toPandas()\n",
    "\n",
    "        plt.figure(figsize=(15, 6))\n",
    "        plt.subplot(1, 3, (1,2))\n",
    "\n",
    "        sns.histplot(data=pandas_df, x=column_name,  hue=outcome_col, bins=30, palette=['rebeccapurple', 'teal'],\n",
    "                            kde=False, linewidth=0.5, multiple=\"stack\", element=\"step\", edgecolor=\"none\")\n",
    "\n",
    "        col_mean = df_filtered.agg(mean(col(column_name)).alias('mean')).collect()[0]['mean']\n",
    "        col_median = df_filtered.approxQuantile(column_name, [0.5], 0.01)[0]\n",
    "        plt.axvline(x=col_mean,   color='red',    linestyle='--')\n",
    "        plt.axvline(x=col_median, color='pink',   linestyle='--')\n",
    "        plt.gca().set_facecolor('lightgray')\n",
    "        plt.title(column_name)\n",
    "\n",
    "        plt.subplot(1, 3, 3)\n",
    "\n",
    "        res = df_with_flags.withColumn(f'{column_name}_0_null', when((col(column_name).isNull())  & (col(outcome_col) == 0), 1) .otherwise(0)) \\\n",
    "                           .withColumn(f'{column_name}_0_num',  when((~col(column_name).isNull()) & (col(outcome_col) == 0), 1) .otherwise(0)) \\\n",
    "                           .withColumn(f'{column_name}_1_null', when((col(column_name).isNull())  & (col(outcome_col) == 1), 1) .otherwise(0)) \\\n",
    "                           .withColumn(f'{column_name}_1_num',  when((~col(column_name).isNull()) & (col(outcome_col) == 1), 1) .otherwise(0))\n",
    "\n",
    "        aggy = res.agg(\n",
    "                        count(f'{column_name}_0_null').alias('count'),\n",
    "                        sum(f'{column_name}_0_null').alias('0_null'),\n",
    "                        sum(f'{column_name}_0_num').alias('0_num'),\n",
    "                        sum(f'{column_name}_1_null').alias('1_null'),\n",
    "                        sum(f'{column_name}_1_num').alias('1_num')\n",
    "                ).collect()\n",
    "\n",
    "        display(aggy)\n",
    "\n",
    "        bar_data = pd.DataFrame({\n",
    "            'Category': ['Float-Castable', 'Float-Castable', 'Uncastable', 'Uncastable'],\n",
    "            'Outcome': [0, 1, 0, 1],\n",
    "            'Count': [aggy[0][2], aggy[0][4], aggy[0][1], aggy[0][3]]\n",
    "        })\n",
    "\n",
    "        plt.gca().set_facecolor('lightgray')\n",
    "        sns.barplot(x='Category', y='Count', hue='Outcome', data=bar_data, palette=['rebeccapurple', 'teal'])\n",
    "        plt.title('Null Counts by Category')\n",
    "\n",
    "        plt.show()\n",
    "\n",
    "        # if comparator is not None and comparator in df_filtered.columns:\n",
    "        #     df_filtered = df_filtered.withColumn(comparator, col(comparator).cast('float'))\n",
    "        #     df_filtered = df_filtered.filter(col(comparator).isNotNull())\n",
    "\n",
    "        #     # 2D correlation between column of interest vs this comparator\n",
    "        #     pdf = df_filtered.select(column_name, comparator).toPandas()\n",
    "        #     sns.scatterplot(x=column_name, y=comparator, data=pdf, alpha=0.03)\n",
    "        #     plt.show()\n",
    "\n",
    "    # return only the castable ones\n",
    "    return agg_result\n",
    "\n",
    "def summarize_columns(df, cols_to_summarize, outcome_col, sample_rate=.001, to_show=True, seed=42):\n",
    "    # summary results dataframe\n",
    "    result_df = None\n",
    "\n",
    "    # loop through the columns\n",
    "    for col_name in cols_to_summarize:\n",
    "        agg_result = summarize_column(df, col_name, outcome_col, sample_rate=sample_rate, to_show=to_show, seed=42)\n",
    "        result_df = result_df.union(agg_result) if result_df is not None else agg_result\n",
    "\n",
    "    if to_show: \n",
    "        display(result_df)\n",
    "    return result_df\n",
    "\n",
    "outcome_col = 'DEP_DEL15'\n",
    "cols_to_summarize = [#'DELAYED_FLIGHTS_2_HOURS_PRIOR',\n",
    "                     'HourlyWindGustSpeed'\n",
    "                     'HourlyDewPointTemperature', \n",
    "                     'HourlyDryBulbTemperature',\n",
    "                     'HourlyPrecipitation',\n",
    "                     'HourlyRelativeHumidity',\n",
    "                     'HourlySeaLevelPressure',\n",
    "                     'pagerank',\n",
    "                     'inDegree',\n",
    "                     'outDegree'\n",
    "                     ]\n",
    "\n",
    "# summarize a *dataframe* using columns from above\n",
    "summary_results = summarize_columns(OTPW_60M_gf, cols_to_summarize, outcome_col, sample_rate=1, to_show=True)\n",
    "display(summary_results)"
   ]
  },
  {
   "cell_type": "code",
   "execution_count": 0,
   "metadata": {
    "application/vnd.databricks.v1+cell": {
     "cellMetadata": {
      "byteLimit": 2048000,
      "rowLimit": 10000
     },
     "inputWidgets": {},
     "nuid": "1daf65c7-9d31-4f76-b44d-c42259ddabed",
     "showTitle": false,
     "title": ""
    }
   },
   "outputs": [
    {
     "output_type": "stream",
     "name": "stdout",
     "output_type": "stream",
     "text": [
      "25.436238460937076 23.0 24.0\n"
     ]
    },
    {
     "output_type": "display_data",
     "data": {
      "text/html": [
       "<style scoped>\n",
       "  .table-result-container {\n",
       "    max-height: 300px;\n",
       "    overflow: auto;\n",
       "  }\n",
       "  table, th, td {\n",
       "    border: 1px solid black;\n",
       "    border-collapse: collapse;\n",
       "  }\n",
       "  th, td {\n",
       "    padding: 5px;\n",
       "  }\n",
       "  th {\n",
       "    text-align: left;\n",
       "  }\n",
       "</style><div class='table-result-container'><table class='table-result'><thead style='background-color: white'><tr><th>count</th><th>nulls_nans_count</th><th>string_nans_nulls_count</th><th>float_castable_count</th><th>uncastable_count</th><th>min_value</th><th>max_value</th><th>mean</th><th>std_dev</th></tr></thead><tbody><tr><td>4157075</td><td>27516044</td><td>0</td><td>4157075</td><td>27516044</td><td>11.0</td><td>105.0</td><td>25.44</td><td>5.92</td></tr></tbody></table></div>"
      ]
     },
     "metadata": {
      "application/vnd.databricks.v1+output": {
       "addedWidgets": {},
       "aggData": [],
       "aggError": "",
       "aggOverflow": false,
       "aggSchema": [],
       "aggSeriesLimitReached": false,
       "aggType": "",
       "arguments": {},
       "columnCustomDisplayInfos": {},
       "data": [
        [
         4157075,
         27516044,
         0,
         4157075,
         27516044,
         11.0,
         105.0,
         25.44,
         5.92
        ]
       ],
       "datasetInfos": [],
       "dbfsResultPath": null,
       "isJsonSchema": true,
       "metadata": {},
       "overflow": false,
       "plotOptions": {
        "customPlotOptions": {},
        "displayType": "table",
        "pivotAggregation": null,
        "pivotColumns": null,
        "xColumns": null,
        "yColumns": null
       },
       "removedWidgets": [],
       "schema": [
        {
         "metadata": "{}",
         "name": "count",
         "type": "\"long\""
        },
        {
         "metadata": "{}",
         "name": "nulls_nans_count",
         "type": "\"long\""
        },
        {
         "metadata": "{}",
         "name": "string_nans_nulls_count",
         "type": "\"long\""
        },
        {
         "metadata": "{}",
         "name": "float_castable_count",
         "type": "\"long\""
        },
        {
         "metadata": "{}",
         "name": "uncastable_count",
         "type": "\"long\""
        },
        {
         "metadata": "{}",
         "name": "min_value",
         "type": "\"double\""
        },
        {
         "metadata": "{}",
         "name": "max_value",
         "type": "\"double\""
        },
        {
         "metadata": "{}",
         "name": "mean",
         "type": "\"double\""
        },
        {
         "metadata": "{}",
         "name": "std_dev",
         "type": "\"double\""
        }
       ],
       "type": "table"
      }
     },
     "output_type": "display_data"
    },
    {
     "output_type": "display_data",
     "data": {
      "text/html": [
       "<style scoped>\n",
       "  .table-result-container {\n",
       "    max-height: 300px;\n",
       "    overflow: auto;\n",
       "  }\n",
       "  table, th, td {\n",
       "    border: 1px solid black;\n",
       "    border-collapse: collapse;\n",
       "  }\n",
       "  th, td {\n",
       "    padding: 5px;\n",
       "  }\n",
       "  th {\n",
       "    text-align: left;\n",
       "  }\n",
       "</style><div class='table-result-container'><table class='table-result'><thead style='background-color: white'><tr><th>count</th><th>0_null</th><th>0_num</th><th>1_null</th><th>1_num</th></tr></thead><tbody><tr><td>31673119</td><td>22246011</td><td>3275290</td><td>4894503</td><td>781526</td></tr></tbody></table></div>"
      ]
     },
     "metadata": {
      "application/vnd.databricks.v1+output": {
       "addedWidgets": {},
       "aggData": [],
       "aggError": "",
       "aggOverflow": false,
       "aggSchema": [],
       "aggSeriesLimitReached": false,
       "aggType": "",
       "arguments": {},
       "columnCustomDisplayInfos": {},
       "data": [
        [
         31673119,
         22246011,
         3275290,
         4894503,
         781526
        ]
       ],
       "datasetInfos": [],
       "dbfsResultPath": null,
       "isJsonSchema": true,
       "metadata": {},
       "overflow": false,
       "plotOptions": {
        "customPlotOptions": {},
        "displayType": "table",
        "pivotAggregation": null,
        "pivotColumns": null,
        "xColumns": null,
        "yColumns": null
       },
       "removedWidgets": [],
       "schema": [
        {
         "metadata": "{}",
         "name": "count",
         "type": "\"long\""
        },
        {
         "metadata": "{}",
         "name": "0_null",
         "type": "\"long\""
        },
        {
         "metadata": "{}",
         "name": "0_num",
         "type": "\"long\""
        },
        {
         "metadata": "{}",
         "name": "1_null",
         "type": "\"long\""
        },
        {
         "metadata": "{}",
         "name": "1_num",
         "type": "\"long\""
        }
       ],
       "type": "table"
      }
     },
     "output_type": "display_data"
    },
    {
     "output_type": "display_data",
     "data": {
      "image/png": "[encoded data removed]",
      "text/plain": [
       "<Figure size 1500x600 with 2 Axes>"
      ]
     },
     "metadata": {},
     "output_type": "display_data"
    },
    {
     "output_type": "display_data",
     "data": {
      "text/html": [
       "<style scoped>\n",
       "  .table-result-container {\n",
       "    max-height: 300px;\n",
       "    overflow: auto;\n",
       "  }\n",
       "  table, th, td {\n",
       "    border: 1px solid black;\n",
       "    border-collapse: collapse;\n",
       "  }\n",
       "  th, td {\n",
       "    padding: 5px;\n",
       "  }\n",
       "  th {\n",
       "    text-align: left;\n",
       "  }\n",
       "</style><div class='table-result-container'><table class='table-result'><thead style='background-color: white'><tr><th>count</th><th>nulls_nans_count</th><th>string_nans_nulls_count</th><th>float_castable_count</th><th>uncastable_count</th><th>min_value</th><th>max_value</th><th>mean</th><th>std_dev</th></tr></thead><tbody><tr><td>4157075</td><td>27516044</td><td>0</td><td>4157075</td><td>27516044</td><td>11.0</td><td>105.0</td><td>25.44</td><td>5.92</td></tr></tbody></table></div>"
      ]
     },
     "metadata": {
      "application/vnd.databricks.v1+output": {
       "addedWidgets": {},
       "aggData": [],
       "aggError": "",
       "aggOverflow": false,
       "aggSchema": [],
       "aggSeriesLimitReached": false,
       "aggType": "",
       "arguments": {},
       "columnCustomDisplayInfos": {},
       "data": [
        [
         4157075,
         27516044,
         0,
         4157075,
         27516044,
         11.0,
         105.0,
         25.44,
         5.92
        ]
       ],
       "datasetInfos": [],
       "dbfsResultPath": null,
       "isJsonSchema": true,
       "metadata": {},
       "overflow": false,
       "plotOptions": {
        "customPlotOptions": {},
        "displayType": "table",
        "pivotAggregation": null,
        "pivotColumns": null,
        "xColumns": null,
        "yColumns": null
       },
       "removedWidgets": [],
       "schema": [
        {
         "metadata": "{}",
         "name": "count",
         "type": "\"long\""
        },
        {
         "metadata": "{}",
         "name": "nulls_nans_count",
         "type": "\"long\""
        },
        {
         "metadata": "{}",
         "name": "string_nans_nulls_count",
         "type": "\"long\""
        },
        {
         "metadata": "{}",
         "name": "float_castable_count",
         "type": "\"long\""
        },
        {
         "metadata": "{}",
         "name": "uncastable_count",
         "type": "\"long\""
        },
        {
         "metadata": "{}",
         "name": "min_value",
         "type": "\"float\""
        },
        {
         "metadata": "{}",
         "name": "max_value",
         "type": "\"float\""
        },
        {
         "metadata": "{}",
         "name": "mean",
         "type": "\"double\""
        },
        {
         "metadata": "{}",
         "name": "std_dev",
         "type": "\"double\""
        }
       ],
       "type": "table"
      }
     },
     "output_type": "display_data"
    },
    {
     "output_type": "display_data",
     "data": {
      "text/html": [
       "<style scoped>\n",
       "  .table-result-container {\n",
       "    max-height: 300px;\n",
       "    overflow: auto;\n",
       "  }\n",
       "  table, th, td {\n",
       "    border: 1px solid black;\n",
       "    border-collapse: collapse;\n",
       "  }\n",
       "  th, td {\n",
       "    padding: 5px;\n",
       "  }\n",
       "  th {\n",
       "    text-align: left;\n",
       "  }\n",
       "</style><div class='table-result-container'><table class='table-result'><thead style='background-color: white'><tr><th>count</th><th>nulls_nans_count</th><th>string_nans_nulls_count</th><th>float_castable_count</th><th>uncastable_count</th><th>min_value</th><th>max_value</th><th>mean</th><th>std_dev</th></tr></thead><tbody><tr><td>4157075</td><td>27516044</td><td>0</td><td>4157075</td><td>27516044</td><td>11.0</td><td>105.0</td><td>25.44</td><td>5.92</td></tr></tbody></table></div>"
      ]
     },
     "metadata": {
      "application/vnd.databricks.v1+output": {
       "addedWidgets": {},
       "aggData": [],
       "aggError": "",
       "aggOverflow": false,
       "aggSchema": [],
       "aggSeriesLimitReached": false,
       "aggType": "",
       "arguments": {},
       "columnCustomDisplayInfos": {},
       "data": [
        [
         4157075,
         27516044,
         0,
         4157075,
         27516044,
         11.0,
         105.0,
         25.44,
         5.92
        ]
       ],
       "datasetInfos": [],
       "dbfsResultPath": null,
       "isJsonSchema": true,
       "metadata": {},
       "overflow": false,
       "plotOptions": {
        "customPlotOptions": {},
        "displayType": "table",
        "pivotAggregation": null,
        "pivotColumns": null,
        "xColumns": null,
        "yColumns": null
       },
       "removedWidgets": [],
       "schema": [
        {
         "metadata": "{}",
         "name": "count",
         "type": "\"long\""
        },
        {
         "metadata": "{}",
         "name": "nulls_nans_count",
         "type": "\"long\""
        },
        {
         "metadata": "{}",
         "name": "string_nans_nulls_count",
         "type": "\"long\""
        },
        {
         "metadata": "{}",
         "name": "float_castable_count",
         "type": "\"long\""
        },
        {
         "metadata": "{}",
         "name": "uncastable_count",
         "type": "\"long\""
        },
        {
         "metadata": "{}",
         "name": "min_value",
         "type": "\"float\""
        },
        {
         "metadata": "{}",
         "name": "max_value",
         "type": "\"float\""
        },
        {
         "metadata": "{}",
         "name": "mean",
         "type": "\"double\""
        },
        {
         "metadata": "{}",
         "name": "std_dev",
         "type": "\"double\""
        }
       ],
       "type": "table"
      }
     },
     "output_type": "display_data"
    }
   ],
   "source": [
    "outcome_col = 'DEP_DEL15'\n",
    "cols_to_summarize = [#'DELAYED_FLIGHTS_2_HOURS_PRIOR',\n",
    "                     'HourlyWindGustSpeed'\n",
    "                     ]\n",
    "\n",
    "# summarize a *dataframe* using columns from above\n",
    "summary_results = summarize_columns(OTPW_60M_gf, cols_to_summarize, outcome_col, sample_rate=1, to_show=True)\n",
    "display(summary_results)"
   ]
  },
  {
   "cell_type": "code",
   "execution_count": 0,
   "metadata": {
    "application/vnd.databricks.v1+cell": {
     "cellMetadata": {},
     "inputWidgets": {},
     "nuid": "a6e5abc5-889c-491a-a9b7-4f9c48450d12",
     "showTitle": false,
     "title": ""
    }
   },
   "outputs": [],
   "source": [
    "def get_mode(df, column_name):\n",
    "    mode_value = df.groupBy(column_name).count().orderBy(F.desc('count')).limit(1).collect()[0][0]\n",
    "    return mode_value\n",
    "\n",
    "# handle column and do imputation\n",
    "def summarize_column(df, column_name, outcome_col, sample_rate=1, to_show=True, seed=42):\n",
    "    df = df if sample_rate==1 else df.sample(False, sample_rate, seed)\n",
    "    # cast the specific column to float\n",
    "    df_with_cast = df.withColumn(column_name, col(column_name).cast('float'))\n",
    "    df_filtered = df_with_cast.filter(col(column_name).isNotNull())\n",
    "    \n",
    "    # determine flags for different conditions\n",
    "    df_with_flags = df_with_cast.withColumn('is_null_or_nan', col(column_name).isNull() | isnan(col(column_name)))\n",
    "    df_with_flags = df_with_flags.withColumn('is_string_nan_or_null', col(column_name).isin('nan', 'null'))\n",
    "    df_with_flags = df_with_flags.withColumn('is_float_castable', ~col('is_null_or_nan') & ~col('is_string_nan_or_null'))\n",
    "\n",
    "    agg_result = df_with_flags.agg(\n",
    "        count(col(column_name)).alias('count'),\n",
    "        sum(when(col('is_null_or_nan'), 1).otherwise(0)).alias('nulls_nans_count'),\n",
    "        sum(when(col('is_string_nan_or_null'), 1).otherwise(0)).alias('string_nans_nulls_count'),\n",
    "        sum(when(col('is_float_castable'), 1).otherwise(0)).alias('float_castable_count'),\n",
    "        sum(when(~col('is_float_castable'), 1).otherwise(0)).alias('uncastable_count'), # Assuming is_float_castable is a boolean column\n",
    "        min(col(column_name)).alias('min_value'),\n",
    "        max(col(column_name)).alias('max_value'),\n",
    "        round(avg(col(column_name)), 2).alias('mean'),\n",
    "        round(stddev(col(column_name)), 2).alias('std_dev')\n",
    "    )\n",
    "\n",
    "    # summarization values\n",
    "    col_mean = df_filtered.agg(mean(col(column_name)).alias('mean')).collect()[0]['mean']\n",
    "    col_mode = get_mode(df_filtered, column_name)\n",
    "    col_median = df_filtered.approxQuantile(column_name, [0.5], 0.01)[0]\n",
    "    print(col_mean, col_mode, col_median)\n",
    "\n",
    "    # plot histogram if to_show is True\n",
    "    if to_show:\n",
    "        display(agg_result.collect())\n",
    "\n",
    "        pandas_df = df_with_cast.select([column_name, outcome_col]).toPandas()\n",
    "\n",
    "        plt.figure(figsize=(15, 6))\n",
    "        plt.subplot(1, 3, (1,2))\n",
    "\n",
    "        sns.histplot(data=pandas_df, x=column_name,  hue=outcome_col, bins=30, palette=['rebeccapurple', 'teal'],\n",
    "                            kde=False, linewidth=0.5, multiple=\"stack\", element=\"step\", edgecolor=\"none\")\n",
    "\n",
    "        col_mean = df_filtered.agg(mean(col(column_name)).alias('mean')).collect()[0]['mean']\n",
    "        col_median = df_filtered.approxQuantile(column_name, [0.5], 0.01)[0]\n",
    "        plt.axvline(x=col_mean,   color='red',    linestyle='--')\n",
    "        plt.axvline(x=col_median, color='pink',   linestyle='--')\n",
    "        plt.gca().set_facecolor('lightgray')\n",
    "        plt.title(column_name)\n",
    "\n",
    "        plt.subplot(1, 3, 3)\n",
    "\n",
    "        res = df_with_flags.withColumn(f'{column_name}_0_null', when((col(column_name).isNull())  & (col(outcome_col) == 0), 1) .otherwise(0)) \\\n",
    "                           .withColumn(f'{column_name}_0_num',  when((~col(column_name).isNull()) & (col(outcome_col) == 0), 1) .otherwise(0)) \\\n",
    "                           .withColumn(f'{column_name}_1_null', when((col(column_name).isNull())  & (col(outcome_col) == 1), 1) .otherwise(0)) \\\n",
    "                           .withColumn(f'{column_name}_1_num',  when((~col(column_name).isNull()) & (col(outcome_col) == 1), 1) .otherwise(0))\n",
    "\n",
    "        aggy = res.agg(\n",
    "                        count(f'{column_name}_0_null').alias('count'),\n",
    "                        sum(f'{column_name}_0_null').alias('0_null'),\n",
    "                        sum(f'{column_name}_0_num').alias('0_num'),\n",
    "                        sum(f'{column_name}_1_null').alias('1_null'),\n",
    "                        sum(f'{column_name}_1_num').alias('1_num')\n",
    "                ).collect()\n",
    "\n",
    "        display(aggy)\n",
    "\n",
    "        bar_data = pd.DataFrame({\n",
    "            'Category': ['Float-Castable', 'Float-Castable', 'Uncastable', 'Uncastable'],\n",
    "            'Outcome': [0, 1, 0, 1],\n",
    "            'Count': [aggy[0][2], aggy[0][4], aggy[0][1], aggy[0][3]]\n",
    "        })\n",
    "\n",
    "        plt.gca().set_facecolor('lightgray')\n",
    "        sns.barplot(x='Category', y='Count', hue='Outcome', data=bar_data, palette=['rebeccapurple', 'teal'])\n",
    "        plt.title('Null Counts by Category')\n",
    "\n",
    "        plt.show()\n",
    "\n",
    "        # if comparator is not None and comparator in df_filtered.columns:\n",
    "        #     df_filtered = df_filtered.withColumn(comparator, col(comparator).cast('float'))\n",
    "        #     df_filtered = df_filtered.filter(col(comparator).isNotNull())\n",
    "\n",
    "        #     # 2D correlation between column of interest vs this comparator\n",
    "        #     pdf = df_filtered.select(column_name, comparator).toPandas()\n",
    "        #     sns.scatterplot(x=column_name, y=comparator, data=pdf, alpha=0.03)\n",
    "        #     plt.show()\n",
    "\n",
    "    # return only the castable ones\n",
    "    return agg_result\n",
    "\n",
    "def summarize_columns(df, cols_to_summarize, outcome_col, sample_rate=.001, to_show=True, seed=42):\n",
    "    # summary results dataframe\n",
    "    result_df = None\n",
    "\n",
    "    # loop through the columns\n",
    "    for col_name in cols_to_summarize:\n",
    "        agg_result = summarize_column(df, col_name, outcome_col, sample_rate=sample_rate, to_show=to_show, seed=42)\n",
    "        result_df = result_df.union(agg_result) if result_df is not None else agg_result\n",
    "\n",
    "    if to_show: \n",
    "        display(result_df)\n",
    "    return result_df"
   ]
  },
  {
   "cell_type": "code",
   "execution_count": 0,
   "metadata": {
    "application/vnd.databricks.v1+cell": {
     "cellMetadata": {
      "byteLimit": 2048000,
      "rowLimit": 10000
     },
     "inputWidgets": {},
     "nuid": "944b979f-0ddf-4f8b-90c9-114eaf4c4fcc",
     "showTitle": false,
     "title": ""
    }
   },
   "outputs": [
    {
     "output_type": "execute_result",
     "data": {
      "text/plain": [
       "['QUARTER',\n",
       " 'DAY_OF_MONTH',\n",
       " 'DAY_OF_WEEK',\n",
       " 'FL_DATE',\n",
       " 'OP_UNIQUE_CARRIER',\n",
       " 'OP_CARRIER_AIRLINE_ID',\n",
       " 'OP_CARRIER',\n",
       " 'TAIL_NUM',\n",
       " 'OP_CARRIER_FL_NUM',\n",
       " 'ORIGIN_AIRPORT_ID',\n",
       " 'ORIGIN_AIRPORT_SEQ_ID',\n",
       " 'ORIGIN_CITY_MARKET_ID',\n",
       " 'ORIGIN',\n",
       " 'ORIGIN_CITY_NAME',\n",
       " 'ORIGIN_STATE_ABR',\n",
       " 'ORIGIN_STATE_FIPS',\n",
       " 'ORIGIN_STATE_NM',\n",
       " 'ORIGIN_WAC',\n",
       " 'DEST_AIRPORT_ID',\n",
       " 'DEST_AIRPORT_SEQ_ID',\n",
       " 'DEST_CITY_MARKET_ID',\n",
       " 'DEST',\n",
       " 'DEST_CITY_NAME',\n",
       " 'DEST_STATE_ABR',\n",
       " 'DEST_STATE_FIPS',\n",
       " 'DEST_STATE_NM',\n",
       " 'DEST_WAC',\n",
       " 'CRS_DEP_TIME',\n",
       " 'DEP_TIME',\n",
       " 'DEP_DELAY',\n",
       " 'DEP_DELAY_NEW',\n",
       " 'DEP_DEL15',\n",
       " 'DEP_DELAY_GROUP',\n",
       " 'DEP_TIME_BLK',\n",
       " 'TAXI_OUT',\n",
       " 'WHEELS_OFF',\n",
       " 'WHEELS_ON',\n",
       " 'TAXI_IN',\n",
       " 'CRS_ARR_TIME',\n",
       " 'ARR_TIME',\n",
       " 'ARR_DELAY',\n",
       " 'ARR_DELAY_NEW',\n",
       " 'ARR_DEL15',\n",
       " 'ARR_DELAY_GROUP',\n",
       " 'ARR_TIME_BLK',\n",
       " 'CANCELLED',\n",
       " 'CANCELLATION_CODE',\n",
       " 'DIVERTED',\n",
       " 'CRS_ELAPSED_TIME',\n",
       " 'ACTUAL_ELAPSED_TIME',\n",
       " 'AIR_TIME',\n",
       " 'FLIGHTS',\n",
       " 'DISTANCE',\n",
       " 'DISTANCE_GROUP',\n",
       " 'CARRIER_DELAY',\n",
       " 'WEATHER_DELAY',\n",
       " 'NAS_DELAY',\n",
       " 'SECURITY_DELAY',\n",
       " 'LATE_AIRCRAFT_DELAY',\n",
       " 'FIRST_DEP_TIME',\n",
       " 'TOTAL_ADD_GTIME',\n",
       " 'LONGEST_ADD_GTIME',\n",
       " 'YEAR',\n",
       " 'MONTH',\n",
       " 'origin_airport_name',\n",
       " 'origin_station_name',\n",
       " 'origin_station_id',\n",
       " 'origin_iata_code',\n",
       " 'origin_icao',\n",
       " 'origin_type',\n",
       " 'origin_region',\n",
       " 'origin_station_lat',\n",
       " 'origin_station_lon',\n",
       " 'origin_airport_lat',\n",
       " 'origin_airport_lon',\n",
       " 'origin_station_dis',\n",
       " 'dest_airport_name',\n",
       " 'dest_station_name',\n",
       " 'dest_station_id',\n",
       " 'dest_iata_code',\n",
       " 'dest_icao',\n",
       " 'dest_type',\n",
       " 'dest_region',\n",
       " 'dest_station_lat',\n",
       " 'dest_station_lon',\n",
       " 'dest_airport_lat',\n",
       " 'dest_airport_lon',\n",
       " 'dest_station_dis',\n",
       " 'sched_depart_date_time_UTC',\n",
       " 'four_hours_prior_depart_UTC',\n",
       " 'two_hours_prior_depart_UTC',\n",
       " 'STATION',\n",
       " 'DATE',\n",
       " 'LATITUDE',\n",
       " 'LONGITUDE',\n",
       " 'ELEVATION',\n",
       " 'NAME',\n",
       " 'REPORT_TYPE',\n",
       " 'SOURCE',\n",
       " 'HourlyAltimeterSetting',\n",
       " 'HourlyDewPointTemperature',\n",
       " 'HourlyDryBulbTemperature',\n",
       " 'HourlyPrecipitation',\n",
       " 'HourlyPresentWeatherType',\n",
       " 'HourlyPressureChange',\n",
       " 'HourlyPressureTendency',\n",
       " 'HourlyRelativeHumidity',\n",
       " 'HourlySkyConditions',\n",
       " 'HourlySeaLevelPressure',\n",
       " 'HourlyStationPressure',\n",
       " 'HourlyVisibility',\n",
       " 'HourlyWetBulbTemperature',\n",
       " 'HourlyWindDirection',\n",
       " 'HourlyWindGustSpeed',\n",
       " 'HourlyWindSpeed',\n",
       " 'Sunrise',\n",
       " 'Sunset',\n",
       " 'DailyAverageDewPointTemperature',\n",
       " 'DailyAverageDryBulbTemperature',\n",
       " 'DailyAverageRelativeHumidity',\n",
       " 'DailyAverageSeaLevelPressure',\n",
       " 'DailyAverageStationPressure',\n",
       " 'DailyAverageWetBulbTemperature',\n",
       " 'DailyAverageWindSpeed',\n",
       " 'DailyCoolingDegreeDays',\n",
       " 'DailyDepartureFromNormalAverageTemperature',\n",
       " 'DailyHeatingDegreeDays',\n",
       " 'DailyMaximumDryBulbTemperature',\n",
       " 'DailyMinimumDryBulbTemperature',\n",
       " 'DailyPeakWindDirection',\n",
       " 'DailyPeakWindSpeed',\n",
       " 'DailyPrecipitation',\n",
       " 'DailySnowDepth',\n",
       " 'DailySnowfall',\n",
       " 'DailySustainedWindDirection',\n",
       " 'DailySustainedWindSpeed',\n",
       " 'DailyWeather',\n",
       " 'MonthlyAverageRH',\n",
       " 'MonthlyDaysWithGT001Precip',\n",
       " 'MonthlyDaysWithGT010Precip',\n",
       " 'MonthlyDaysWithGT32Temp',\n",
       " 'MonthlyDaysWithGT90Temp',\n",
       " 'MonthlyDaysWithLT0Temp',\n",
       " 'MonthlyDaysWithLT32Temp',\n",
       " 'MonthlyDepartureFromNormalAverageTemperature',\n",
       " 'MonthlyDepartureFromNormalCoolingDegreeDays',\n",
       " 'MonthlyDepartureFromNormalHeatingDegreeDays',\n",
       " 'MonthlyDepartureFromNormalMaximumTemperature',\n",
       " 'MonthlyDepartureFromNormalMinimumTemperature',\n",
       " 'MonthlyDepartureFromNormalPrecipitation',\n",
       " 'MonthlyDewpointTemperature',\n",
       " 'MonthlyGreatestPrecip',\n",
       " 'MonthlyGreatestPrecipDate',\n",
       " 'MonthlyGreatestSnowDepth',\n",
       " 'MonthlyGreatestSnowDepthDate',\n",
       " 'MonthlyGreatestSnowfall',\n",
       " 'MonthlyGreatestSnowfallDate',\n",
       " 'MonthlyMaxSeaLevelPressureValue',\n",
       " 'MonthlyMaxSeaLevelPressureValueDate',\n",
       " 'MonthlyMaxSeaLevelPressureValueTime',\n",
       " 'MonthlyMaximumTemperature',\n",
       " 'MonthlyMeanTemperature',\n",
       " 'MonthlyMinSeaLevelPressureValue',\n",
       " 'MonthlyMinSeaLevelPressureValueDate',\n",
       " 'MonthlyMinSeaLevelPressureValueTime',\n",
       " 'MonthlyMinimumTemperature',\n",
       " 'MonthlySeaLevelPressure',\n",
       " 'MonthlyStationPressure',\n",
       " 'MonthlyTotalLiquidPrecipitation',\n",
       " 'MonthlyTotalSnowfall',\n",
       " 'MonthlyWetBulb',\n",
       " 'AWND',\n",
       " 'CDSD',\n",
       " 'CLDD',\n",
       " 'DSNW',\n",
       " 'HDSD',\n",
       " 'HTDD',\n",
       " 'NormalsCoolingDegreeDay',\n",
       " 'NormalsHeatingDegreeDay',\n",
       " 'ShortDurationEndDate005',\n",
       " 'ShortDurationEndDate010',\n",
       " 'ShortDurationEndDate015',\n",
       " 'ShortDurationEndDate020',\n",
       " 'ShortDurationEndDate030',\n",
       " 'ShortDurationEndDate045',\n",
       " 'ShortDurationEndDate060',\n",
       " 'ShortDurationEndDate080',\n",
       " 'ShortDurationEndDate100',\n",
       " 'ShortDurationEndDate120',\n",
       " 'ShortDurationEndDate150',\n",
       " 'ShortDurationEndDate180',\n",
       " 'ShortDurationPrecipitationValue005',\n",
       " 'ShortDurationPrecipitationValue010',\n",
       " 'ShortDurationPrecipitationValue015',\n",
       " 'ShortDurationPrecipitationValue020',\n",
       " 'ShortDurationPrecipitationValue030',\n",
       " 'ShortDurationPrecipitationValue045',\n",
       " 'ShortDurationPrecipitationValue060',\n",
       " 'ShortDurationPrecipitationValue080',\n",
       " 'ShortDurationPrecipitationValue100',\n",
       " 'ShortDurationPrecipitationValue120',\n",
       " 'ShortDurationPrecipitationValue150',\n",
       " 'ShortDurationPrecipitationValue180',\n",
       " 'REM',\n",
       " 'BackupDirection',\n",
       " 'BackupDistance',\n",
       " 'BackupDistanceUnit',\n",
       " 'BackupElements',\n",
       " 'BackupElevation',\n",
       " 'BackupEquipment',\n",
       " 'BackupLatitude',\n",
       " 'BackupLongitude',\n",
       " 'BackupName',\n",
       " 'WindEquipmentChangeDate',\n",
       " 'inDegree',\n",
       " 'outDegree',\n",
       " 'pagerank']"
      ]
     },
     "execution_count": 21,
     "metadata": {},
     "output_type": "execute_result"
    }
   ],
   "source": [
    "OTPW_60M_gf.columns"
   ]
  },
  {
   "cell_type": "markdown",
   "metadata": {
    "application/vnd.databricks.v1+cell": {
     "cellMetadata": {},
     "inputWidgets": {},
     "nuid": "87a3168e-3908-4683-a035-80c30f2a6f0f",
     "showTitle": false,
     "title": ""
    }
   },
   "source": [
    "# Pagerank"
   ]
  },
  {
   "cell_type": "code",
   "execution_count": 0,
   "metadata": {
    "application/vnd.databricks.v1+cell": {
     "cellMetadata": {
      "byteLimit": 2048000,
      "rowLimit": 10000
     },
     "inputWidgets": {},
     "nuid": "719bb34f-6ad9-4218-b7fe-4b31814daf99",
     "showTitle": false,
     "title": ""
    }
   },
   "outputs": [],
   "source": [
    "def split_data(df):\n",
    "    # train_test split\n",
    "    #train_raw = df.filter(col('YEAR') != '2019') # null vulnerability; will collect garbage\n",
    "    train_raw = df.filter(col('YEAR') <  '2019')\n",
    "    test_raw  = df.filter(col('YEAR') == '2019')\n",
    "    return train_raw, test_raw\n",
    "\n",
    "def graph_from_data(df):\n",
    "    # Prep Graph\n",
    "    edges = (df.select('ORIGIN', 'DEST')\n",
    "            .withColumnRenamed(\"ORIGIN\", \"src\")\n",
    "            .withColumnRenamed(\"DEST\", \"dst\")).distinct()\n",
    "\n",
    "    nodes = (edges.distinct().select('src')\n",
    "            .union(edges.select('dst'))\n",
    "            .distinct()\n",
    "            .withColumnRenamed(\"src\", \"id\"))\n",
    "\n",
    "    return GraphFrame(nodes, edges)\n",
    "\n",
    "def load_pagerank(loc=f\"{blob_url}/pagerank\"):\n",
    "    return spark.read.parquet(loc)\n",
    "\n",
    "def pageranker(df):\n",
    "\n",
    "    df = df.repartition(100)\n",
    "    origins_df = df.select(\"ORIGIN\").distinct().withColumnRenamed(\"origin\", \"id\")\n",
    "\n",
    "    # Create a DataFrame with unique destinations and rename the 'destination' column to 'id'\n",
    "    destinations_df = df.select(\"DEST\").distinct().withColumnRenamed(\"destination\", \"id\")\n",
    "    vertices_df = origins_df.union(destinations_df).distinct()\n",
    "\n",
    "    # Create edges DataFrame with 'src' and 'dst' columns representing the origin and destination of each flight\n",
    "    edges_df = df.withColumnRenamed(\"origin\", \"src\").withColumnRenamed(\"DEST\", \"dst\")\n",
    "    graph = GraphFrame(vertices_df, edges_df)\n",
    "    results = graph.pageRank(resetProbability=0.15, maxIter=10)\n",
    "    pagerank_scores = results.vertices.select(\"id\", \"pagerank\").orderBy(\"pagerank\", ascending=False)\n",
    "\n",
    "    return pagerank_scores\n",
    "\n",
    "def add_graph_features_to_df(df, pagerank, graph):\n",
    "    in_degrees = graph.inDegrees\n",
    "    out_degrees = graph.outDegrees\n",
    "    result = out_degrees.join(in_degrees, out_degrees.id == in_degrees.id, 'left').drop(in_degrees.id)\n",
    "\n",
    "    graph_features = pagerank.join(result, pagerank.id == result.id, 'left').drop(result.id)\n",
    "    df_gf_added = df.join(graph_features, df.ORIGIN == graph_features.id, 'left').drop(graph_features.id)\n",
    "    return df_gf_added\n",
    "    \n",
    "# df.write.option(\"header\", \"true\").parquet(f\"{blob_url}/pipeline_train_js/\")"
   ]
  }
 ],
 "metadata": {
  "application/vnd.databricks.v1+notebook": {
   "dashboards": [],
   "language": "python",
   "notebookMetadata": {
    "pythonIndentUnit": 4
   },
   "notebookName": "Final Submission- EDA",
   "widgets": {}
  }
 },
 "nbformat": 4,
 "nbformat_minor": 0
}
